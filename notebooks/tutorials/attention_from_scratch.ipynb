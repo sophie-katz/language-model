{
 "cells": [
  {
   "cell_type": "code",
   "execution_count": 167,
   "metadata": {},
   "outputs": [],
   "source": [
    "# Copyright (c) 2023 Sophie Katz\n",
    "#\n",
    "# This file is part of Language Model.\n",
    "#\n",
    "# Language Model is free software: you can redistribute it and/or modify it under\n",
    "# the terms of the GNU General Public License as published by the Free Software\n",
    "# Foundation, either version 3 of the License, or (at your option) any later version.\n",
    "#\n",
    "# Language Model is distributed in the hope that it will be useful, but WITHOUT\n",
    "# ANY WARRANTY; without even the implied warranty of MERCHANTABILITY or FITNESS FOR A\n",
    "# PARTICULAR PURPOSE. See the GNU General Public License for more details.\n",
    "#\n",
    "# You should have received a copy of the GNU General Public License along with Language\n",
    "# Model. If not, see <https://www.gnu.org/licenses/>."
   ]
  },
  {
   "attachments": {},
   "cell_type": "markdown",
   "metadata": {},
   "source": [
    "# Writing attention from scratch using Numpy and Scipy\n",
    "\n",
    "Table of contents\n",
    "- [Imports](#Imports)\n",
    "- [Constants](#Constants)\n",
    "- [Creating example data](#Creating-example-data)\n",
    "    - [Creating $Q$, $K$, and $V$](#creating---and)\n",
    "- [Calculating attention for one word](#calculating-attention-for-one-word)\n",
    "- [Calculating attention for a sentence](#calculating-attention-for-a-sentence)\n",
    "- [Attention function implementation](#attention-function-implementation)\n",
    "\n",
    "## Resources used\n",
    "\n",
    "Name | URL\n",
    "---- | ---\n",
    "Going through the attention mechanism from scratch | https://machinelearningmastery.com/the-attention-mechanism-from-scratch/\n",
    "Understanding $Q$, $K$, and $V$ | https://medium.com/analytics-vidhya/understanding-q-k-v-in-transformer-self-attention-9a5eddaa5960#:~:text=Q%3A%20Vector%28Linear%20layer%20output,of%20calculations%2C%20related%20with%20input\n",
    "More on unrderstanding $Q$, $K$, and $V$ | https://stats.stackexchange.com/questions/421935/what-exactly-are-keys-queries-and-values-in-attention-mechanisms"
   ]
  },
  {
   "attachments": {},
   "cell_type": "markdown",
   "metadata": {},
   "source": [
    "## Imports\n",
    "\n",
    "We're only using Numpy and Scipy for this."
   ]
  },
  {
   "cell_type": "code",
   "execution_count": 168,
   "metadata": {},
   "outputs": [],
   "source": [
    "import numpy as np\n",
    "import scipy as sp\n",
    "import random\n",
    "\n",
    "# Set our random seeds for reproducibility - feel free to change these!\n",
    "np.random.seed(57)\n",
    "random.seed(57)"
   ]
  },
  {
   "attachments": {},
   "cell_type": "markdown",
   "metadata": {},
   "source": [
    "## Constants\n",
    "\n",
    "We can use some small and sensible constants for our implementation."
   ]
  },
  {
   "cell_type": "code",
   "execution_count": 169,
   "metadata": {},
   "outputs": [],
   "source": [
    "# The number of words in our language\n",
    "VOCABULARY_SIZE = 10\n",
    "\n",
    "# The size of the input sentence to our transformer\n",
    "INPUT_SENTENCE_LENGTH = 8\n",
    "\n",
    "# The size of the sentence outputted by our transformer\n",
    "OUTPUT_SENTENCE_LENGTH = 13"
   ]
  },
  {
   "attachments": {},
   "cell_type": "markdown",
   "metadata": {},
   "source": [
    "Yes, we're not actually writing a full transformer, but we are writing an attention mechanism that could be used in one. So we'll use constants that would make sense from the perspective of a transformer with an input and output sequence of differing lengths."
   ]
  },
  {
   "attachments": {},
   "cell_type": "markdown",
   "metadata": {},
   "source": [
    "## Creating example data\n",
    "\n",
    "Let's create some small amount of example data to play around with, starting with some words. To create our word vectors, we want to encode them as one-hot vectors. Here's a simple encoder:"
   ]
  },
  {
   "cell_type": "code",
   "execution_count": 170,
   "metadata": {},
   "outputs": [],
   "source": [
    "def encode_one_hot(vocabulary_index, vocabulary_size):\n",
    "    \"\"\"\n",
    "    Encode a vocabulary index into a one-hot vector.\n",
    "\n",
    "    Parameters\n",
    "    ==========\n",
    "    vocabulary_index : int\n",
    "        The index of the vocabulary to encode.\n",
    "    vocabulary_size : int\n",
    "        The size of the vocabulary.\n",
    "    \"\"\"\n",
    "\n",
    "    # Check parameter validity\n",
    "    assert vocabulary_index >= 0\n",
    "    assert vocabulary_index < vocabulary_size\n",
    "    assert vocabulary_size > 0\n",
    "\n",
    "    return np.array(\n",
    "        [1 if index == vocabulary_index else 0 for index in range(vocabulary_size)]\n",
    "    )"
   ]
  },
  {
   "attachments": {},
   "cell_type": "markdown",
   "metadata": {},
   "source": [
    "Let's try it out:"
   ]
  },
  {
   "cell_type": "code",
   "execution_count": 171,
   "metadata": {},
   "outputs": [
    {
     "name": "stdout",
     "output_type": "stream",
     "text": [
      "[1]\n",
      "[0 0 0 1 0 0 0 0 0 0]\n"
     ]
    }
   ],
   "source": [
    "# Print out a couple of example encodings\n",
    "print(encode_one_hot(0, 1))\n",
    "print(encode_one_hot(3, 10))"
   ]
  },
  {
   "attachments": {},
   "cell_type": "markdown",
   "metadata": {},
   "source": [
    "We can use this to generate word vectors as as please. The next step is to create weight matrices."
   ]
  },
  {
   "attachments": {},
   "cell_type": "markdown",
   "metadata": {},
   "source": [
    "### Creating $Q$, $K$, and $V$\n",
    "\n",
    "Attention uses three input matrices $Q$, $K$, and $V$. They are frequently described as query, key, and value matrices, but those names can be misleading. It's more accurate to say that these matrices represent different things for different types of transformer tasks.\n",
    "\n",
    "* For unsupervised language model training such as GPT they are usually all taken from the same source.\n",
    "* For machine translation tasks $Q$ is the target language sequence, $K$ and $V$ are from the source sequence.\n",
    "\n",
    "$K$ and $V$ are usually the same, but they don't have to be. What they really are is abstract feature embeddings. The naming convention came from an earlier `seq2seq` paper which introduced attention, and the same function for calculating attention continues to be used for many different tasks. The input matrices can be used for a wide variety of different purposes which don't always map to the original names.\n",
    "\n",
    "In reality, $Q$, $K$, and $V$ would be derived through some sort of trained model, but for the sake of this example we'll just use weight matrices to generate them from our word vectors. Let's start by initializing some weight matrices:"
   ]
  },
  {
   "cell_type": "code",
   "execution_count": 172,
   "metadata": {},
   "outputs": [],
   "source": [
    "# Create random matrices that are square with dimensionality equal to the vocabulary\n",
    "# size\n",
    "weights_query = np.random.rand(VOCABULARY_SIZE, VOCABULARY_SIZE)\n",
    "weights_key = np.random.rand(VOCABULARY_SIZE, VOCABULARY_SIZE)\n",
    "weights_value = np.random.rand(VOCABULARY_SIZE, VOCABULARY_SIZE)"
   ]
  },
  {
   "attachments": {},
   "cell_type": "markdown",
   "metadata": {},
   "source": [
    "Then we can calculate $Q$ for a word:"
   ]
  },
  {
   "cell_type": "code",
   "execution_count": 173,
   "metadata": {},
   "outputs": [
    {
     "name": "stdout",
     "output_type": "stream",
     "text": [
      "Word index: 0\n",
      "Word vector: [1 0 0 0 0 0 0 0 0 0]\n",
      "Word vector shape: (10,)\n",
      "Query weights shape: (10, 10)\n",
      "Query vector shape: (10,)\n",
      "Query vector: [0.08734964 0.2304771  0.41106107 0.3107827  0.56595589 0.5450637\n",
      " 0.80709944 0.91815511 0.52209075 0.42468726]\n"
     ]
    }
   ],
   "source": [
    "# Get a random index for a word in our vocabulary\n",
    "word_index = random.randint(0, VOCABULARY_SIZE - 1)\n",
    "\n",
    "# Encode it as a one-hot vector using our function\n",
    "word = encode_one_hot(word_index, VOCABULARY_SIZE)\n",
    "\n",
    "# Multiply the word vector by the query weights to get a query vector\n",
    "query = np.matmul(word, weights_query)\n",
    "\n",
    "# We expect the query vector to be the same size as the word vector\n",
    "assert query.shape == word.shape\n",
    "\n",
    "# Print out the results\n",
    "print(f\"Word index: {word_index}\")\n",
    "print(f\"Word vector: {word}\")\n",
    "print(f\"Word vector shape: {word.shape}\")\n",
    "print(f\"Query weights shape: {weights_query.shape}\")\n",
    "print(f\"Query vector shape: {query.shape}\")\n",
    "print(f\"Query vector: {query}\")"
   ]
  },
  {
   "attachments": {},
   "cell_type": "markdown",
   "metadata": {},
   "source": [
    "Let's do the same for $K$ and $V$:"
   ]
  },
  {
   "cell_type": "code",
   "execution_count": 174,
   "metadata": {},
   "outputs": [
    {
     "name": "stdout",
     "output_type": "stream",
     "text": [
      "Key vector: [0.81658165 0.148125   0.67386362 0.58028501 0.36955779 0.13700037\n",
      " 0.85846563 0.2778117  0.42564585 0.73402552]\n",
      "Value vector: [0.23969168 0.0359505  0.16488377 0.31457254 0.0861606  0.59318729\n",
      " 0.81810828 0.48468141 0.50546712 0.85403457]\n"
     ]
    }
   ],
   "source": [
    "key = np.matmul(word, weights_key)\n",
    "value = np.matmul(word, weights_value)\n",
    "\n",
    "print(f\"Key vector: {key}\")\n",
    "print(f\"Value vector: {value}\")"
   ]
  },
  {
   "attachments": {},
   "cell_type": "markdown",
   "metadata": {},
   "source": [
    "Let's now do this for two sentences of words - one input and one output. This isn't to imply that we are running this attention function to solve any particular type of problem. It simply demonstrates that two different sequence lengths can be used and how that looks."
   ]
  },
  {
   "cell_type": "code",
   "execution_count": 175,
   "metadata": {},
   "outputs": [
    {
     "name": "stdout",
     "output_type": "stream",
     "text": [
      "[array([0.78670726, 0.66402411, 0.85267895, 0.54438794, 0.19747141,\n",
      "       0.53870933, 0.50728999, 0.27735705, 0.66848423, 0.73135733]), array([0.28606284, 0.66473538, 0.13456831, 0.49466284, 0.64674894,\n",
      "       0.9380451 , 0.99752772, 0.80880475, 0.45548152, 0.69100327]), array([0.28606284, 0.66473538, 0.13456831, 0.49466284, 0.64674894,\n",
      "       0.9380451 , 0.99752772, 0.80880475, 0.45548152, 0.69100327]), array([0.08734964, 0.2304771 , 0.41106107, 0.3107827 , 0.56595589,\n",
      "       0.5450637 , 0.80709944, 0.91815511, 0.52209075, 0.42468726]), array([0.87459418, 0.05216006, 0.99227957, 0.10514732, 0.40198985,\n",
      "       0.07183655, 0.01919304, 0.72131415, 0.04146587, 0.01865054]), array([0.92833745, 0.30861285, 0.6790608 , 0.25945866, 0.12325794,\n",
      "       0.19677946, 0.85349077, 0.30611078, 0.55043178, 0.95944013]), array([0.88585633, 0.4517676 , 0.16935395, 0.29627212, 0.53955157,\n",
      "       0.76114919, 0.88933263, 0.56779742, 0.47443796, 0.7638936 ]), array([0.692714  , 0.59926426, 0.19623779, 0.65924136, 0.30860856,\n",
      "       0.36937095, 0.28478416, 0.92711715, 0.77552168, 0.64131545]), array([0.28606284, 0.66473538, 0.13456831, 0.49466284, 0.64674894,\n",
      "       0.9380451 , 0.99752772, 0.80880475, 0.45548152, 0.69100327]), array([0.28606284, 0.66473538, 0.13456831, 0.49466284, 0.64674894,\n",
      "       0.9380451 , 0.99752772, 0.80880475, 0.45548152, 0.69100327]), array([0.07180395, 0.89852885, 0.42051383, 0.58216979, 0.21415354,\n",
      "       0.44748568, 0.4678638 , 0.10063716, 0.92728789, 0.16098684]), array([0.88585633, 0.4517676 , 0.16935395, 0.29627212, 0.53955157,\n",
      "       0.76114919, 0.88933263, 0.56779742, 0.47443796, 0.7638936 ]), array([0.7075579 , 0.37813408, 0.58145564, 0.62810642, 0.11055598,\n",
      "       0.66199922, 0.5786915 , 0.31063788, 0.39121153, 0.41314193])]\n"
     ]
    }
   ],
   "source": [
    "# Get a list of random indices for every word in our sentences\n",
    "input_word_indices = [\n",
    "    random.randint(0, VOCABULARY_SIZE - 1) for _ in range(INPUT_SENTENCE_LENGTH)\n",
    "]\n",
    "\n",
    "output_word_indices = [\n",
    "    random.randint(0, VOCABULARY_SIZE - 1) for _ in range(OUTPUT_SENTENCE_LENGTH)\n",
    "]\n",
    "\n",
    "# Encode them all as one-hot vectors\n",
    "input_words = [\n",
    "    encode_one_hot(word_index, VOCABULARY_SIZE) for word_index in input_word_indices\n",
    "]\n",
    "output_words = [\n",
    "    encode_one_hot(word_index, VOCABULARY_SIZE) for word_index in output_word_indices\n",
    "]\n",
    "\n",
    "# Convert the word vectors into Q, K, V vectors\n",
    "queries = [np.matmul(word, weights_query) for word in output_words]\n",
    "keys = [np.matmul(word, weights_key) for word in input_words]\n",
    "values = [np.matmul(word, weights_value) for word in input_words]\n",
    "\n",
    "# Print one of them out\n",
    "print(queries)"
   ]
  },
  {
   "attachments": {
    "asdf.png": {
     "image/png": "[encoded data removed]"
    }
   },
   "cell_type": "markdown",
   "metadata": {},
   "source": [
    "## Calculating attention for one word\n",
    "\n",
    "Now that we have sample data (our `queries`, `keys`, and `values` matrices generated above), we can start to calculate attention. The attention calculation can be defined mathematically as:\n",
    "\n",
    "$$attention(Q, K, V) = softmax(\\frac{QK^T}{\\sqrt{d_k}})V$$\n",
    "\n",
    "Where $d_k$ is the number of features. You can also visualize the calculation using this diagram:\n",
    "\n",
    "![asdf.png](attachment:asdf.png)\n",
    "\n",
    "You can trace the dimensions of the different matrices at different steps in the calculation. At the end, we expect the result to have the shape `(output_sequence_length, vocabulary_size)`.\n",
    "\n",
    "**NOTE:** You might be expecting the result to be of shape `(output_sequence_length, input_sequence_length)` because of how we understand attention intuitively. This is a correct expectation! The result of the attention function is critical to building transformers, but the result of the first matrix multiplication (the score matrix) is what is known as the *attention matrix*.\n",
    "\n",
    "We can start by scoring a query against a key. This will get us the relation between these two words."
   ]
  },
  {
   "cell_type": "code",
   "execution_count": 176,
   "metadata": {},
   "outputs": [
    {
     "data": {
      "text/plain": [
       "3.1707535631756056"
      ]
     },
     "execution_count": 176,
     "metadata": {},
     "output_type": "execute_result"
    }
   ],
   "source": [
    "np.dot(queries[0], keys[0])"
   ]
  },
  {
   "attachments": {},
   "cell_type": "markdown",
   "metadata": {},
   "source": [
    "Now we do this for every key word at once:"
   ]
  },
  {
   "cell_type": "code",
   "execution_count": 177,
   "metadata": {},
   "outputs": [
    {
     "name": "stdout",
     "output_type": "stream",
     "text": [
      "[3.17075356 2.48115636 2.48115636 3.11195578 2.46003028 2.65454707\n",
      " 3.17075356 1.81791341]\n"
     ]
    }
   ],
   "source": [
    "scores = np.array([np.dot(queries[0], key) for key in keys])\n",
    "\n",
    "# It is calculating the relation score of the first word in the output sentence to every\n",
    "# word in the input sentence, so we expect it to have the same dimensionality as the\n",
    "# input sentence\n",
    "assert scores.shape == (INPUT_SENTENCE_LENGTH,)\n",
    "\n",
    "print(scores)"
   ]
  },
  {
   "attachments": {},
   "cell_type": "markdown",
   "metadata": {},
   "source": [
    "Then we take the softmax of these after scaling. It is generally good practice to scale the scores by the square root of the dimensionality of the key vectors. This is because if the key vectors are large, the dot products grow large as well, pushing the softmax function into regions where it has extremely small gradients. This is a trick that was introduced in the original transformer paper."
   ]
  },
  {
   "cell_type": "code",
   "execution_count": 178,
   "metadata": {},
   "outputs": [
    {
     "data": {
      "text/plain": [
       "array([0.14514296, 0.116705  , 0.116705  , 0.14246918, 0.11592794,\n",
       "       0.12328273, 0.14514296, 0.09462423])"
      ]
     },
     "execution_count": 178,
     "metadata": {},
     "output_type": "execute_result"
    }
   ],
   "source": [
    "weights = sp.special.softmax(scores / (VOCABULARY_SIZE**0.5))\n",
    "\n",
    "# This operation shouldn't change the shape, only the values\n",
    "assert weights.shape == scores.shape\n",
    "\n",
    "weights"
   ]
  },
  {
   "attachments": {},
   "cell_type": "markdown",
   "metadata": {},
   "source": [
    "We can then use these weights to create a weighted sum of the value vector. The result of this is the attention vector for our input sentence."
   ]
  },
  {
   "cell_type": "code",
   "execution_count": 179,
   "metadata": {},
   "outputs": [
    {
     "data": {
      "text/plain": [
       "array([0.56776484, 0.42919222, 0.45483751, 0.37362664, 0.50926416,\n",
       "       0.40020751, 0.47256763, 0.46993472, 0.55653554, 0.65328568])"
      ]
     },
     "execution_count": 179,
     "metadata": {},
     "output_type": "execute_result"
    }
   ],
   "source": [
    "attention = sum(\n",
    "    [np.dot(weights[index], values[index]) for index in range(INPUT_SENTENCE_LENGTH)]\n",
    ")\n",
    "\n",
    "# This the attention vector for only one word, so we expect it to only be the size of\n",
    "# the vocabulary\n",
    "assert attention.shape == (VOCABULARY_SIZE,)\n",
    "\n",
    "attention"
   ]
  },
  {
   "attachments": {},
   "cell_type": "markdown",
   "metadata": {},
   "source": [
    "## Calculating attention for a sentence\n",
    "\n",
    "The above method works just fine, but we can optimize it using matrix operations. We start by stacking the list of word vectors into sentence matrices:"
   ]
  },
  {
   "cell_type": "code",
   "execution_count": 180,
   "metadata": {},
   "outputs": [
    {
     "name": "stdout",
     "output_type": "stream",
     "text": [
      "Number of input words: 8\n",
      "Shape of a word vector: (10,)\n",
      "Shape of the input sentence matrix: (8, 10)\n",
      "\n",
      "Input sentence matrix:\n",
      "[[0 0 0 0 0 1 0 0 0 0]\n",
      " [0 0 0 0 0 0 0 0 0 1]\n",
      " [0 0 0 0 0 0 0 0 0 1]\n",
      " [1 0 0 0 0 0 0 0 0 0]\n",
      " [0 0 0 1 0 0 0 0 0 0]\n",
      " [0 0 0 0 0 0 0 0 1 0]\n",
      " [0 0 0 0 0 1 0 0 0 0]\n",
      " [0 0 0 0 0 0 0 1 0 0]]\n"
     ]
    }
   ],
   "source": [
    "input_sentence = np.array(input_words)\n",
    "output_sentence = np.array(output_words)\n",
    "\n",
    "print(f\"Number of input words: {len(input_words)}\")\n",
    "print(f\"Shape of a word vector: {input_words[0].shape}\")\n",
    "print(f\"Shape of the input sentence matrix: {input_sentence.shape}\")\n",
    "print()\n",
    "print(\"Input sentence matrix:\")\n",
    "print(input_sentence)"
   ]
  },
  {
   "attachments": {},
   "cell_type": "markdown",
   "metadata": {},
   "source": [
    "We can use the same weight matrices to generate our $Q$, $K$, and $V$ matrices for the sentences:"
   ]
  },
  {
   "cell_type": "code",
   "execution_count": 181,
   "metadata": {},
   "outputs": [
    {
     "name": "stdout",
     "output_type": "stream",
     "text": [
      "Shape of the output sentence matrix: (13, 10)\n",
      "Shape of the query weights matrix: (10, 10)\n",
      "Shape of the query matrix: (13, 10)\n"
     ]
    }
   ],
   "source": [
    "query = np.matmul(output_sentence, weights_query)\n",
    "key = np.matmul(input_sentence, weights_key)\n",
    "value = np.matmul(input_sentence, weights_value)\n",
    "\n",
    "# The matrices should have the same shapes as their source sentences\n",
    "assert query.shape == output_sentence.shape\n",
    "assert key.shape == input_sentence.shape\n",
    "assert value.shape == input_sentence.shape\n",
    "\n",
    "print(f\"Shape of the output sentence matrix: {output_sentence.shape}\")\n",
    "print(f\"Shape of the query weights matrix: {weights_query.shape}\")\n",
    "print(f\"Shape of the query matrix: {query.shape}\")"
   ]
  },
  {
   "attachments": {},
   "cell_type": "markdown",
   "metadata": {},
   "source": [
    "We can calculate all of our scores at once:"
   ]
  },
  {
   "cell_type": "code",
   "execution_count": 182,
   "metadata": {},
   "outputs": [
    {
     "name": "stdout",
     "output_type": "stream",
     "text": [
      "Shape of the query matrix: (13, 10)\n",
      "Shape of the key matrix: (8, 10)\n",
      "Shape of the score matrix: (13, 8)\n"
     ]
    }
   ],
   "source": [
    "score = np.matmul(query, key.T)\n",
    "\n",
    "# The scores are every output word for every input word, so we expect the shape to be\n",
    "# a rectangle with the two sentence lengths as dimensions\n",
    "assert score.shape == (OUTPUT_SENTENCE_LENGTH, INPUT_SENTENCE_LENGTH)\n",
    "\n",
    "print(f\"Shape of the query matrix: {query.shape}\")\n",
    "print(f\"Shape of the key matrix: {key.shape}\")\n",
    "print(f\"Shape of the score matrix: {score.shape}\")"
   ]
  },
  {
   "attachments": {},
   "cell_type": "markdown",
   "metadata": {},
   "source": [
    "And all of our weights at once:"
   ]
  },
  {
   "cell_type": "code",
   "execution_count": 183,
   "metadata": {},
   "outputs": [
    {
     "name": "stdout",
     "output_type": "stream",
     "text": [
      "Shape of the weight matrix: (13, 8)\n"
     ]
    }
   ],
   "source": [
    "weight = sp.special.softmax(score / (VOCABULARY_SIZE**0.5), axis=1)\n",
    "\n",
    "# This operation shouldn't change the shape, only the values\n",
    "assert weight.shape == score.shape\n",
    "\n",
    "print(f\"Shape of the weight matrix: {weight.shape}\")"
   ]
  },
  {
   "attachments": {},
   "cell_type": "markdown",
   "metadata": {},
   "source": [
    "And lastly our attention all at once:"
   ]
  },
  {
   "cell_type": "code",
   "execution_count": 184,
   "metadata": {},
   "outputs": [
    {
     "name": "stdout",
     "output_type": "stream",
     "text": [
      "Shape of the attention matrix: (13, 10)\n"
     ]
    },
    {
     "data": {
      "text/plain": [
       "array([[0.56776484, 0.42919222, 0.45483751, 0.37362664, 0.50926416,\n",
       "        0.40020751, 0.47256763, 0.46993472, 0.55653554, 0.65328568],\n",
       "       [0.59119164, 0.41192583, 0.44918864, 0.3674337 , 0.53332671,\n",
       "        0.37570831, 0.45324228, 0.46866823, 0.55895598, 0.650062  ],\n",
       "       [0.59119164, 0.41192583, 0.44918864, 0.3674337 , 0.53332671,\n",
       "        0.37570831, 0.45324228, 0.46866823, 0.55895598, 0.650062  ],\n",
       "       [0.58594759, 0.42341096, 0.44979032, 0.37344594, 0.52907394,\n",
       "        0.38805452, 0.46133003, 0.46045688, 0.5500834 , 0.6474111 ],\n",
       "       [0.57048592, 0.46361578, 0.47133947, 0.3942548 , 0.51886836,\n",
       "        0.41615059, 0.46720532, 0.4508532 , 0.55223346, 0.64633045],\n",
       "       [0.55568366, 0.44515894, 0.45747396, 0.37976891, 0.49510853,\n",
       "        0.41690305, 0.48619281, 0.4672868 , 0.55054167, 0.65628816],\n",
       "       [0.58326513, 0.43260528, 0.46212944, 0.37934952, 0.527155  ,\n",
       "        0.38895479, 0.45412531, 0.46555113, 0.56467623, 0.65315166],\n",
       "       [0.58453305, 0.43225917, 0.46098074, 0.38001223, 0.5294655 ,\n",
       "        0.38949398, 0.45397764, 0.46237659, 0.56200637, 0.65095308],\n",
       "       [0.59119164, 0.41192583, 0.44918864, 0.3674337 , 0.53332671,\n",
       "        0.37570831, 0.45324228, 0.46866823, 0.55895598, 0.650062  ],\n",
       "       [0.59119164, 0.41192583, 0.44918864, 0.3674337 , 0.53332671,\n",
       "        0.37570831, 0.45324228, 0.46866823, 0.55895598, 0.650062  ],\n",
       "       [0.58048492, 0.41415759, 0.4449402 , 0.36416117, 0.52055406,\n",
       "        0.38518756, 0.46756238, 0.47108777, 0.55096505, 0.6495252 ],\n",
       "       [0.58326513, 0.43260528, 0.46212944, 0.37934952, 0.527155  ,\n",
       "        0.38895479, 0.45412531, 0.46555113, 0.56467623, 0.65315166],\n",
       "       [0.57776   , 0.42990315, 0.45699522, 0.3777037 , 0.52186781,\n",
       "        0.39477746, 0.46233369, 0.46322986, 0.55766566, 0.6506723 ]])"
      ]
     },
     "execution_count": 184,
     "metadata": {},
     "output_type": "execute_result"
    }
   ],
   "source": [
    "attention = np.matmul(weight, value)\n",
    "\n",
    "# See the above note in \"Calculating attention for one word\" for an explanation of why\n",
    "# this is the shape\n",
    "assert attention.shape == (OUTPUT_SENTENCE_LENGTH, VOCABULARY_SIZE)\n",
    "\n",
    "print(f\"Shape of the attention matrix: {attention.shape}\")\n",
    "\n",
    "attention"
   ]
  },
  {
   "attachments": {},
   "cell_type": "markdown",
   "metadata": {},
   "source": [
    "## Attention function implementation\n",
    "\n",
    "Let's put together everything we've learned about attention into a function."
   ]
  },
  {
   "cell_type": "code",
   "execution_count": 185,
   "metadata": {},
   "outputs": [],
   "source": [
    "def attention(query, key, value):\n",
    "    \"\"\"\n",
    "    Calculates an attention matrix for given input vectors.\n",
    "    \"\"\"\n",
    "\n",
    "    # We expect all of our inputs to be 2-dimensional matrices (we are not using\n",
    "    # batching in this example)\n",
    "    assert query.ndim == 2\n",
    "    assert key.ndim == 2\n",
    "    assert value.ndim == 2\n",
    "\n",
    "    vocabulary_size = query.shape[1]\n",
    "    query_sequence_length = query.shape[0]\n",
    "    key_sequence_length = key.shape[0]\n",
    "    value_sequence_length = value.shape[0]\n",
    "\n",
    "    # We expect the vocabulary sizes to be the same for all of the inputs\n",
    "    assert key.shape[1] == vocabulary_size\n",
    "    assert value.shape[1] == vocabulary_size\n",
    "\n",
    "    # First we calculate the score matrix - this is the attention matrix\n",
    "    score = np.matmul(query, key.T)\n",
    "\n",
    "    # The scores are every output word for every input word, so we expect the shape to\n",
    "    # be a rectangle with the two sentence lengths as dimensions\n",
    "    assert score.shape == (query_sequence_length, key_sequence_length)\n",
    "\n",
    "    # We apply scaling and softmax to the scores to get the weights\n",
    "    weight = sp.special.softmax(score / (vocabulary_size**0.5), axis=1)\n",
    "\n",
    "    # This operation shouldn't change the shape, only the values\n",
    "    assert weight.shape == score.shape\n",
    "\n",
    "    # Finally we calculate the result\n",
    "    result = np.matmul(weight, value)\n",
    "\n",
    "    # See the above note in \"Calculating attention for one word\" for an explanation of\n",
    "    # why this is the shape\n",
    "    assert result.shape == (query_sequence_length, vocabulary_size)\n",
    "\n",
    "    return result"
   ]
  },
  {
   "attachments": {},
   "cell_type": "markdown",
   "metadata": {},
   "source": [
    "Let's test it out like before:"
   ]
  },
  {
   "cell_type": "code",
   "execution_count": 186,
   "metadata": {},
   "outputs": [
    {
     "data": {
      "text/plain": [
       "array([[0.56776484, 0.42919222, 0.45483751, 0.37362664, 0.50926416,\n",
       "        0.40020751, 0.47256763, 0.46993472, 0.55653554, 0.65328568],\n",
       "       [0.59119164, 0.41192583, 0.44918864, 0.3674337 , 0.53332671,\n",
       "        0.37570831, 0.45324228, 0.46866823, 0.55895598, 0.650062  ],\n",
       "       [0.59119164, 0.41192583, 0.44918864, 0.3674337 , 0.53332671,\n",
       "        0.37570831, 0.45324228, 0.46866823, 0.55895598, 0.650062  ],\n",
       "       [0.58594759, 0.42341096, 0.44979032, 0.37344594, 0.52907394,\n",
       "        0.38805452, 0.46133003, 0.46045688, 0.5500834 , 0.6474111 ],\n",
       "       [0.57048592, 0.46361578, 0.47133947, 0.3942548 , 0.51886836,\n",
       "        0.41615059, 0.46720532, 0.4508532 , 0.55223346, 0.64633045],\n",
       "       [0.55568366, 0.44515894, 0.45747396, 0.37976891, 0.49510853,\n",
       "        0.41690305, 0.48619281, 0.4672868 , 0.55054167, 0.65628816],\n",
       "       [0.58326513, 0.43260528, 0.46212944, 0.37934952, 0.527155  ,\n",
       "        0.38895479, 0.45412531, 0.46555113, 0.56467623, 0.65315166],\n",
       "       [0.58453305, 0.43225917, 0.46098074, 0.38001223, 0.5294655 ,\n",
       "        0.38949398, 0.45397764, 0.46237659, 0.56200637, 0.65095308],\n",
       "       [0.59119164, 0.41192583, 0.44918864, 0.3674337 , 0.53332671,\n",
       "        0.37570831, 0.45324228, 0.46866823, 0.55895598, 0.650062  ],\n",
       "       [0.59119164, 0.41192583, 0.44918864, 0.3674337 , 0.53332671,\n",
       "        0.37570831, 0.45324228, 0.46866823, 0.55895598, 0.650062  ],\n",
       "       [0.58048492, 0.41415759, 0.4449402 , 0.36416117, 0.52055406,\n",
       "        0.38518756, 0.46756238, 0.47108777, 0.55096505, 0.6495252 ],\n",
       "       [0.58326513, 0.43260528, 0.46212944, 0.37934952, 0.527155  ,\n",
       "        0.38895479, 0.45412531, 0.46555113, 0.56467623, 0.65315166],\n",
       "       [0.57776   , 0.42990315, 0.45699522, 0.3777037 , 0.52186781,\n",
       "        0.39477746, 0.46233369, 0.46322986, 0.55766566, 0.6506723 ]])"
      ]
     },
     "execution_count": 186,
     "metadata": {},
     "output_type": "execute_result"
    }
   ],
   "source": [
    "attention(query, key, value)"
   ]
  },
  {
   "attachments": {},
   "cell_type": "markdown",
   "metadata": {},
   "source": [
    "If you check this result against the above result, you can see that they are the same!"
   ]
  }
 ],
 "metadata": {
  "kernelspec": {
   "display_name": ".venv",
   "language": "python",
   "name": "python3"
  },
  "language_info": {
   "codemirror_mode": {
    "name": "ipython",
    "version": 3
   },
   "file_extension": ".py",
   "mimetype": "text/x-python",
   "name": "python",
   "nbconvert_exporter": "python",
   "pygments_lexer": "ipython3",
   "version": "3.9.13"
  },
  "orig_nbformat": 4
 },
 "nbformat": 4,
 "nbformat_minor": 2
}
