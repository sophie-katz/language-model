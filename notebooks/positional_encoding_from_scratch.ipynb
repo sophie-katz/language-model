{
 "cells": [
  {
   "cell_type": "code",
   "execution_count": null,
   "metadata": {},
   "outputs": [],
   "source": [
    "# Copyright (c) 2023 Sophie Katz\n",
    "#\n",
    "# This file is part of Language Model.\n",
    "#\n",
    "# Language Model is free software: you can redistribute it and/or modify it under\n",
    "# the terms of the GNU General Public License as published by the Free Software\n",
    "# Foundation, either version 3 of the License, or (at your option) any later version.\n",
    "#\n",
    "# Language Model is distributed in the hope that it will be useful, but WITHOUT\n",
    "# ANY WARRANTY; without even the implied warranty of MERCHANTABILITY or FITNESS FOR A\n",
    "# PARTICULAR PURPOSE. See the GNU General Public License for more details.\n",
    "#\n",
    "# You should have received a copy of the GNU General Public License along with Language\n",
    "# Model. If not, see <https://www.gnu.org/licenses/>."
   ]
  },
  {
   "attachments": {},
   "cell_type": "markdown",
   "metadata": {},
   "source": [
    "# Writing positional encoding from scratch using Pytorch\n",
    "\n",
    "This is a simple implementation of positional encoding in PyTorch.\n",
    "\n",
    "## Resources used\n",
    "\n",
    "Name | URL\n",
    "---- | ---\n",
    "A detailed explanation of transformers | http://jalammar.github.io/illustrated-transformer/\n",
    "Writing a transformer from scratch | https://www.kaggle.com/code/arunmohan003/transformer-from-scratch-using-pytorch\n",
    "\n",
    "## Approach\n",
    "\n",
    "The first step in general for NLP applications is turning our input into a vector."
   ]
  },
  {
   "attachments": {},
   "cell_type": "markdown",
   "metadata": {},
   "source": [
    "## Imports"
   ]
  },
  {
   "cell_type": "code",
   "execution_count": 1,
   "metadata": {},
   "outputs": [],
   "source": [
    "import torch as T\n"
   ]
  },
  {
   "attachments": {},
   "cell_type": "markdown",
   "metadata": {},
   "source": [
    "## Constants"
   ]
  },
  {
   "cell_type": "code",
   "execution_count": 2,
   "metadata": {},
   "outputs": [],
   "source": [
    "WORD_ENCODING_SIZE = 512\n"
   ]
  },
  {
   "attachments": {},
   "cell_type": "markdown",
   "metadata": {},
   "source": []
  }
 ],
 "metadata": {
  "kernelspec": {
   "display_name": ".venv",
   "language": "python",
   "name": "python3"
  },
  "language_info": {
   "codemirror_mode": {
    "name": "ipython",
    "version": 3
   },
   "file_extension": ".py",
   "mimetype": "text/x-python",
   "name": "python",
   "nbconvert_exporter": "python",
   "pygments_lexer": "ipython3",
   "version": "3.9.13"
  },
  "orig_nbformat": 4
 },
 "nbformat": 4,
 "nbformat_minor": 2
}
